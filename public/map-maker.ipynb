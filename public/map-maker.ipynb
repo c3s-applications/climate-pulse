{
 "cells": [
  {
   "cell_type": "code",
   "execution_count": 1,
   "id": "3edc6839",
   "metadata": {},
   "outputs": [],
   "source": [
    "import earthkit.data\n",
    "import earthkit.maps\n",
    "from matplotlib.gridspec import GridSpec"
   ]
  },
  {
   "cell_type": "code",
   "execution_count": 12,
   "id": "af9b7b9d",
   "metadata": {},
   "outputs": [
    {
     "name": "stderr",
     "output_type": "stream",
     "text": [
      "Cannot find a wrapper for class: builtins.list, returning unwrapped object\n"
     ]
    }
   ],
   "source": [
    "earthkit.maps.schema.figsize=(4.8, 4.8)\n",
    "earthkit.maps.schema.font = \"Lato\"\n",
    "\n",
    "style = earthkit.maps.Style(\n",
    "    colors=['#08306b', '#08519c', '#f9fbfd', '#fff7ec', '#e94b0d', '#7f0000'],\n",
    "    levels=[-9, -5, 0, 0, 5, 9],\n",
    "    gradients=[10, 30, 0, 30, 10],\n",
    "    ticks=[-9, -7, -5, -4, -3, -2, -1, 0, 1, 2, 3, 4, 5, 7, 9],\n",
    "    extend=\"both\",\n",
    ")\n",
    "\n",
    "style.save_legend_graphic(\"maps/anom-legend.png\", label=\"temperature anomaly (°C)\", location=\"right\")"
   ]
  },
  {
   "cell_type": "code",
   "execution_count": 3,
   "id": "c41d32ca",
   "metadata": {},
   "outputs": [],
   "source": [
    "\n",
    "# def plot_ym_anom(year, month):\n",
    "    \n",
    "#     data = earthkit.data.from_source(\n",
    "#         'cds', 'ecv-for-climate-change',\n",
    "#         {\n",
    "#             'format': 'zip',\n",
    "#             'variable': 'surface_air_temperature',\n",
    "#             'product_type': 'anomaly',\n",
    "#             'climate_reference_period': '1991_2020',\n",
    "#             'time_aggregation': '1_month_mean',\n",
    "#             'year': str(year),\n",
    "#             'month': f\"{month:02d}\",\n",
    "#             'origin': 'era5',\n",
    "#         },\n",
    "#     )\n",
    "\n",
    "#     earthkit.maps.schema.figsize=(20, 20)\n",
    "\n",
    "#     chart = earthkit.maps.Chart.from_gridspec(GridSpec(1, 1, left=0, right=1, bottom=0, top=1, wspace=0, hspace=0))\n",
    "\n",
    "#     style = earthkit.maps.Style(\n",
    "#         colors=['#08306b', '#08519c', '#f9fbfd', '#fff7ec', '#e94b0d', '#7f0000'],\n",
    "#         levels=[-9, -5, 0, 0, 5, 9],\n",
    "#         gradients=[10, 30, 0, 30, 10],\n",
    "#         ticks=range(-9, 10),\n",
    "#         extend=\"both\",\n",
    "#     )\n",
    "\n",
    "#     chart.add_subplot(frameon=False)\n",
    "\n",
    "#     chart.plot(data, style=style)\n",
    "\n",
    "#     chart.save(f\"./maps/anom-{year}-{month:02d}.png\", pad_inches=0)"
   ]
  },
  {
   "cell_type": "code",
   "execution_count": 4,
   "id": "1a1f4b91",
   "metadata": {},
   "outputs": [],
   "source": [
    "# year = 2023\n",
    "# for month in range(1, 13):\n",
    "#     plot_ym_anom(year, month)"
   ]
  },
  {
   "cell_type": "code",
   "execution_count": 5,
   "id": "a1e206bd",
   "metadata": {},
   "outputs": [],
   "source": [
    "# earthkit.maps.schema.figsize=(5, 5)\n",
    "\n",
    "# style = earthkit.maps.Style(\n",
    "#     colors=['#08306b', '#08519c', '#f9fbfd', '#fff7ec', '#e94b0d', '#7f0000'],\n",
    "#     levels=[-9, -5, 0, 0, 5, 9],\n",
    "#     gradients=[10, 30, 0, 30, 10],\n",
    "#     ticks=[-9, -7, -5, -4, -3, -2, -1, 0, 1, 2, 3, 4, 5, 7, 9],\n",
    "#     extend=\"both\",\n",
    "# )\n",
    "\n",
    "# style.save_legend_graphic(\"maps/anom-legend.png\", label=\"temperature anomaly (°C)\", location=\"bottom\")"
   ]
  },
  {
   "cell_type": "code",
   "execution_count": null,
   "id": "2bf2a96c",
   "metadata": {},
   "outputs": [],
   "source": []
  }
 ],
 "metadata": {
  "kernelspec": {
   "display_name": "DEVELOP",
   "language": "python",
   "name": "develop"
  },
  "language_info": {
   "codemirror_mode": {
    "name": "ipython",
    "version": 3
   },
   "file_extension": ".py",
   "mimetype": "text/x-python",
   "name": "python",
   "nbconvert_exporter": "python",
   "pygments_lexer": "ipython3",
   "version": "3.10.6"
  }
 },
 "nbformat": 4,
 "nbformat_minor": 5
}
